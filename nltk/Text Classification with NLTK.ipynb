{
 "cells": [
  {
   "cell_type": "code",
   "execution_count": null,
   "metadata": {},
   "outputs": [],
   "source": [
    "# Now that we're comfortable with NLTK, let's try to tackle\n",
    "# text classification. The goal with text classification can\n",
    "# be pretty broad. Maybe we're trying to classify text as\n",
    "# about politics or the military. Maybe we're trying to\n",
    "# classify it by the gender of the author who wrote it.\n",
    "# A fairly popular text classification task is to identify \n",
    "# a body of text as either spam or not spam, for things like\n",
    "# email filters. In our case, we're going to try to create a\n",
    "# sentiment analysis algorithm.\n",
    "\n",
    "# To do this, we're going to start by trying to use the movie\n",
    "# reviews database that is part of the NLTK corpus. From \n",
    "# there we'll try to use words as \"features\" which are a \n",
    "# part of either a positive or negative movie review. The \n",
    "# NLTK corpus movie_reviews data set has the reviews, and\n",
    "# they are labeled already as positive or negative. This \n",
    "# means we can train and test with this data. First, let's \n",
    "# wrangle our data."
   ]
  },
  {
   "cell_type": "code",
   "execution_count": null,
   "metadata": {},
   "outputs": [],
   "source": [
    "import nltk\n",
    "import random\n",
    "from nltk.corpus import movie_reviews\n",
    "\n",
    "documents = [(list(movie_reviews.words(fileid)), category)\n",
    "             for category in movie_reviews.categories()\n",
    "             for fileid in movie_reviews.fileids(category)]\n",
    "\n",
    "random.shuffle(documents)\n",
    "\n",
    "print(documents[1])\n",
    "\n",
    "all_words = []\n",
    "for w in movie_reviews.words():\n",
    "    all_words.append(w.lower())\n",
    "\n",
    "all_words = nltk.FreqDist(all_words)\n",
    "print(all_words.most_common(15))\n",
    "print(all_words[\"stupid\"])"
   ]
  },
  {
   "cell_type": "code",
   "execution_count": null,
   "metadata": {},
   "outputs": [],
   "source": [
    "# It may take a moment to run this script, as the movie \n",
    "# reviews dataset is somewhat large. Let's cover what is\n",
    "# happening here.\n",
    "\n",
    "# After importing the data set we want, you see:"
   ]
  },
  {
   "cell_type": "code",
   "execution_count": null,
   "metadata": {},
   "outputs": [],
   "source": [
    "documents = [(list(movie_reviews.words(fileid)), category)\n",
    "             for category in movie_reviews.categories()\n",
    "             for fileid in movie_reviews.fileids(category)]"
   ]
  },
  {
   "cell_type": "code",
   "execution_count": null,
   "metadata": {},
   "outputs": [],
   "source": [
    "# Basically, in plain English, the above code is translated\n",
    "# to: In each category (we have pos or neg), take all of the \n",
    "# file IDs (each review has its own ID), then store the\n",
    "# word_tokenized version (a list of words) for the file ID,\n",
    "# followed by the positive or negative label in one big list.\n",
    "\n",
    "# Next, we use random to shuffle our documents. This is \n",
    "# because we're going to be training and testing. If we left\n",
    "# them in order, chances are we'd train on all of the\n",
    "# negatives, some positives, and then test only against\n",
    "# positives. We don't want that, so we shuffle the data.\n",
    "\n",
    "\n",
    " \n",
    "# Then, just so you can see the data you are working with,\n",
    "# we print out documents[1], which is a big list, where the\n",
    "# first element is a list the words, and the 2nd element is\n",
    "# the \"pos\" or \"neg\" label.\n",
    "\n",
    "# Next, we want to collect all words that we find, so we can \n",
    "# have a massive list of typical words. From here, we can \n",
    "# perform a frequency distribution, to then find out the \n",
    "# most common words. As you will see, the most popular \n",
    "# \"words\" are actually things like punctuation, \"the,\" \"a\" \n",
    "# and so on, but quickly we get to legitimate words. We \n",
    "# intend to store a few thousand of the most popular words, \n",
    "# so this shouldn't be a problem."
   ]
  },
  {
   "cell_type": "code",
   "execution_count": null,
   "metadata": {},
   "outputs": [],
   "source": [
    "print(all_words.most_common(15))"
   ]
  },
  {
   "cell_type": "code",
   "execution_count": null,
   "metadata": {},
   "outputs": [],
   "source": [
    "#The above gives you the 15 most common words. You can \n",
    "#also find out how many occurences a word has by doing:"
   ]
  },
  {
   "cell_type": "code",
   "execution_count": null,
   "metadata": {},
   "outputs": [],
   "source": [
    "print(all_words[\"stupid\"])"
   ]
  },
  {
   "cell_type": "code",
   "execution_count": null,
   "metadata": {},
   "outputs": [],
   "source": []
  }
 ],
 "metadata": {
  "kernelspec": {
   "display_name": "Python 3",
   "language": "python",
   "name": "python3"
  },
  "language_info": {
   "codemirror_mode": {
    "name": "ipython",
    "version": 3
   },
   "file_extension": ".py",
   "mimetype": "text/x-python",
   "name": "python",
   "nbconvert_exporter": "python",
   "pygments_lexer": "ipython3",
   "version": "3.7.3"
  }
 },
 "nbformat": 4,
 "nbformat_minor": 2
}
