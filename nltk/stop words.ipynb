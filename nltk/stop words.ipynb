{
 "cells": [
  {
   "cell_type": "code",
   "execution_count": 1,
   "metadata": {},
   "outputs": [],
   "source": [
    "from nltk.corpus import stopwords\n",
    "from nltk.tokenize import word_tokenize"
   ]
  },
  {
   "cell_type": "code",
   "execution_count": 24,
   "metadata": {},
   "outputs": [
    {
     "name": "stdout",
     "output_type": "stream",
     "text": [
      "{'tus', 'estaréis', 'habremos', 'estad', 'estado', 'fuésemos', 'tuvieras', 'nuestra', 'desde', 'vosotras', 'al', 'estuvieran', 'eras', 'hubieron', 'habré', 'míos', 'estaba', 'tuviesen', 'hubieses', 'estuvieron', 'tendrían', 'el', 'estaré', 'habíamos', 'mía', 'algunos', 'tenías', 'suyas', 'estuvieses', 'habidas', 'muchos', 'tuvieseis', 'fuese', 'hube', 'esté', 'sus', 'serán', 'tuvisteis', 'erais', 'tú', 'seamos', 'estas', 'del', 'esta', 'tendríais', 'es', 'ellos', 'cual', 'sí', 'tengas', 'estarás', 'soy', 'él', 'habido', 'éramos', 'fueron', 'sentida', 'fue', 'hay', 'hemos', 'tendríamos', 'tuvieron', 'os', 'yo', 'sintiendo', 'estuviese', 'un', 'sentidos', 'tienen', 'tendrás', 'poco', 'tuviéramos', 'estén', 'fuéramos', 'habían', 'estados', 'nada', 'nosotras', 'estuvieras', 'estarían', 'tengan', 'antes', 'tiene', 'tuyas', 'estuvo', 'tendréis', 'estarías', 'habríais', 'habiendo', 'habida', 'ese', 'tenidas', 'estabas', 'cuando', 'nuestro', 'mi', 'tendrá', 'hayan', 'ellas', 'vosotros', 'estaremos', 'vuestros', 'fuimos', 'tu', 'ti', 'teniendo', 'tengáis', 'seremos', 'me', 'era', 'e', 'hayas', 'estuviéramos', 'seas', 'habríamos', 'suyo', 'sean', 'hubiste', 'tuviera', 'de', 'les', 'tuyo', 'hubiésemos', 'por', 'había', 'tienes', 'habrán', 'entre', 'como', 'estemos', 'las', 'estuvierais', 'haya', 'estuvimos', 'hubierais', 'tenidos', 'fuisteis', 'vuestra', 'contra', 'son', 'porque', 'tuvierais', 'nuestros', 'fuesen', 'y', 'o', 'habías', 'nuestras', 'estéis', 'tanto', 'tenga', 'otro', 'hubiesen', 'sobre', 'están', 'tendría', 'tuvimos', 'hubisteis', 'estamos', 'hubieseis', 'los', 'otros', 'te', 'a', 'qué', 'habría', 'se', 'estaría', 'hayáis', 'tengo', 'seréis', 'estaban', 'ha', 'tenía', 'estar', 'tendrías', 'eso', 'seré', 'sin', 'estaríais', 'hubimos', 'tuviste', 'estabais', 'fui', 'habrías', 'tenían', 'muy', 'habrá', 'esa', 'suya', 'mí', 'estáis', 'la', 'otras', 'estadas', 'con', 'le', 'tendré', 'quien', 'estés', 'habíais', 'estoy', 'será', 'tuviésemos', 'otra', 'hubiera', 'esto', 'estuviera', 'ante', 'seríais', 'en', 'tuvieses', 'hubiéramos', 'tuvieran', 'fueses', 'sois', 'está', 'tenemos', 'seríamos', 'fueras', 'tenéis', 'vuestras', 'estuviste', 'estuviesen', 'sentid', 'sería', 'teníais', 'ni', 'hayamos', 'habrás', 'habréis', 'somos', 'mis', 'hubo', 'estuvieseis', 'fueseis', 'fuiste', 'tuviese', 'tenido', 'esos', 'tened', 'hubieran', 'su', 'nosotros', 'fueran', 'teníamos', 'tendrán', 'eran', 'estuviésemos', 'serás', 'estará', 'no', 'hasta', 'hubieras', 'estuvisteis', 'sea', 'habrían', 'lo', 'estás', 'mías', 'fuera', 'he', 'durante', 'algo', 'estábamos', 'hubiese', 'pero', 'este', 'tendremos', 'que', 'nos', 'ella', 'mucho', 'estarán', 'seáis', 'habéis', 'estaríamos', 'habidos', 'estada', 'quienes', 'eres', 'estuve', 'serías', 'siente', 'más', 'algunas', 'suyos', 'han', 'sentido', 'tuyos', 'fuerais', 'donde', 'estando', 'tuvo', 'esas', 'también', 'ya', 'todos', 'todo', 'tenida', 'has', 'mío', 'una', 'tengamos', 'tuve', 'sentidas', 'vuestro', 'uno', 'para', 'serían', 'unos', 'tuya', 'estos'}\n"
     ]
    }
   ],
   "source": [
    "example_sentence=\"this is my channel of nltk.\"\n",
    "stop_words = set(stopwords.words('spanish'))\n",
    "print(stop_words)"
   ]
  },
  {
   "cell_type": "code",
   "execution_count": 25,
   "metadata": {},
   "outputs": [
    {
     "name": "stdout",
     "output_type": "stream",
     "text": [
      "['this', 'is', 'my', 'channel', 'of', 'nltk', '.']\n",
      "[]\n"
     ]
    }
   ],
   "source": [
    "word_tokens = word_tokenize(example_sentence)\n",
    "\n",
    "filtered_sentence = [w for w in word_tokens if not w in stop_words]\n",
    "\n",
    "filtered_sentence = []\n",
    "\n",
    "# for w in word_tokens:\n",
    "#     if w not in stop_words:\n",
    "#         filtered_sentence.append(w)\n",
    "\n",
    "print(word_tokens)\n",
    "print(filtered_sentence)"
   ]
  },
  {
   "cell_type": "code",
   "execution_count": null,
   "metadata": {},
   "outputs": [],
   "source": []
  }
 ],
 "metadata": {
  "kernelspec": {
   "display_name": "Python 3",
   "language": "python",
   "name": "python3"
  },
  "language_info": {
   "codemirror_mode": {
    "name": "ipython",
    "version": 3
   },
   "file_extension": ".py",
   "mimetype": "text/x-python",
   "name": "python",
   "nbconvert_exporter": "python",
   "pygments_lexer": "ipython3",
   "version": "3.7.3"
  }
 },
 "nbformat": 4,
 "nbformat_minor": 2
}
